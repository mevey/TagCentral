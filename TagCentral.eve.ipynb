{
 "cells": [
  {
   "cell_type": "markdown",
   "metadata": {},
   "source": [
    "# Tag Central\n",
    "Here we will manipulate data from the data folder(US Election tags and Twitch plays pokemon tags).\n"
   ]
  },
  {
   "cell_type": "code",
   "execution_count": 1,
   "metadata": {},
   "outputs": [],
   "source": [
    "from sklearn.feature_extraction.text import TfidfVectorizer\n",
    "from sklearn.metrics.pairwise import cosine_similarity\n",
    "from sklearn.cluster import AffinityPropagation\n",
    "import numpy as np\n",
    "import pandas as pd\n",
    "import distance"
   ]
  },
  {
   "cell_type": "code",
   "execution_count": 2,
   "metadata": {},
   "outputs": [],
   "source": [
    "twitch_data = pd.read_csv(\"data/Twitch Plays Pokemon Identifiers.csv\", low_memory=False, encoding = \"ISO-8859-1\")\n",
    "election_data = pd.read_csv(\"data/US Election Identifiers.csv\", low_memory=False, encoding = \"ISO-8859-1\")\n",
    "\n",
    "DATA = twitch_data"
   ]
  },
  {
   "cell_type": "markdown",
   "metadata": {},
   "source": [
    "Twitch data and election data are loaded using panda.\n",
    "Each dataset has two columns **Identifier** and **Subject**\n",
    "The __tokenize_tags__ function below takes each row of tags, splits them up into arrays and puts them all together into a tags array."
   ]
  },
  {
   "cell_type": "code",
   "execution_count": 3,
   "metadata": {},
   "outputs": [
    {
     "name": "stdout",
     "output_type": "stream",
     "text": [
      "['twitch', 'irc', 'twitch plays pokÃ©mon', 'tpp', 'pokÃ©mon', 'pokemon', 'pokemon red', 'pokÃ©mon red', 'red', 'nan']\n",
      "Total number of tags 302\n"
     ]
    }
   ],
   "source": [
    "def tokenize_tags(data):\n",
    "    tags = data['Subject']\n",
    "    all_tags = []\n",
    "    for tag_string in tags:\n",
    "        tag_string = str(tag_string)\n",
    "        all_tags.extend(tag_string.split(\",\"))\n",
    "    all_tags = np.asarray(all_tags)\n",
    "    return all_tags\n",
    "\n",
    "TAGS = tokenize_tags(DATA)\n",
    "print(list(TAGS[0:10]))\n",
    "print(\"Total number of tags\", len(TAGS))"
   ]
  },
  {
   "cell_type": "code",
   "execution_count": null,
   "metadata": {},
   "outputs": [],
   "source": []
  },
  {
   "cell_type": "code",
   "execution_count": 4,
   "metadata": {},
   "outputs": [],
   "source": [
    "def cleanup(word):  \n",
    "    if (word == None):\n",
    "            print(\"Fingerprint keyer accepts a single string parameter\")\n",
    "    # remove whitespace around the string\n",
    "    word = word.strip()\n",
    "    # lowercase the string\n",
    "    word = word.lower()\n",
    "    # remove all punctuation and control chars, per https://stackoverflow.com/questions/5843518/remove-all-special-characters-punctuation-and-spaces-from-string\n",
    "    word = ''.join(e for e in word if e.isalnum())\n",
    "    # finds ASCII equivalent, per https://stackoverflow.com/questions/21701968/python-the-standard-library-ascii-function\n",
    "    # not sure if the ascii() function is needed, leaving out to test\n",
    "    word = ascii(word)\n",
    "    # splits the word by whitespace, per https://www.tutorialspoint.com/python/string_split.htm\n",
    "    word = word.split()\n",
    "    #sort words\n",
    "    word = sorted(word)\n",
    "    # removes duplicates\n",
    "    word = \"\".join(list(set(word)))\n",
    "    # sorts array in place \n",
    "    return word.strip(\"'\")"
   ]
  },
  {
   "cell_type": "code",
   "execution_count": 5,
   "metadata": {},
   "outputs": [],
   "source": [
    "cleaned_tags = [cleanup(tag) for tag in TAGS]"
   ]
  },
  {
   "cell_type": "code",
   "execution_count": 6,
   "metadata": {},
   "outputs": [],
   "source": [
    "tfidf_vectorizer=TfidfVectorizer()\n",
    "tfidf_matrix=tfidf_vectorizer.fit_transform(cleaned_tags)\n",
    "cs_similarity = np.array([cosine_similarity(tfidf_matrix[i:i+1],tfidf_matrix).flatten() for i in range(len(cleaned_tags))])"
   ]
  },
  {
   "cell_type": "code",
   "execution_count": 7,
   "metadata": {},
   "outputs": [],
   "source": [
    "def cluster(data, tags, clean_tags):\n",
    "    affprop = AffinityPropagation(preference=100)\n",
    "    affprop.fit(data)\n",
    "    clustered_tags = {}\n",
    "    for cluster_id in np.unique(affprop.labels_):\n",
    "        exemplar = cleaned_tags[affprop.cluster_centers_indices_[cluster_id]].lower()\n",
    "        if exemplar in list(clustered_tags.keys()):\n",
    "            arr = clustered_tags[exemplar]\n",
    "        else:\n",
    "            arr = []\n",
    "        cluster = np.unique(tags[np.nonzero(affprop.labels_==cluster_id)])\n",
    "        arr.extend(cluster.tolist())\n",
    "        clustered_tags[exemplar] =  list(set(arr))\n",
    "        cluster_str = \", \".join(cluster)\n",
    "    print(\"No, of labels\", len(clustered_tags.keys()))\n",
    "    return clustered_tags"
   ]
  },
  {
   "cell_type": "code",
   "execution_count": 9,
   "metadata": {},
   "outputs": [
    {
     "name": "stdout",
     "output_type": "stream",
     "text": [
      "No, of labels 120\n"
     ]
    },
    {
     "data": {
      "text/plain": [
       "120"
      ]
     },
     "execution_count": 9,
     "metadata": {},
     "output_type": "execute_result"
    }
   ],
   "source": [
    "clustered_tags = cluster(cs_similarity, TAGS, cleaned_tags)\n",
    "#clustered_tags = cluster(TAGS.reshape(-1, 1), TAGS, cleaned_tags)\n",
    "len(clustered_tags.keys())"
   ]
  },
  {
   "cell_type": "markdown",
   "metadata": {},
   "source": [
    "## Inverted Index\n",
    "Here we are preparing an inverted index of our tags and identifiers"
   ]
  },
  {
   "cell_type": "markdown",
   "metadata": {},
   "source": [
    "First, we convert the dataframe to a dictionary. The key is the identifier and the  the value is a string of comma separated tags.\n",
    "The **make_inverted_index** function that converts this dictionary into a dictionary where the key is a tag and the value is a list of documents where is occurs. The documents are labelled by their position. e.g. 0,1,2,3. This is much easier to work with than their longer values e.g. live_user_twitchplayspokemon_1407024801\n",
    "\n",
    "We create the popularity index and inverted index at the same time."
   ]
  },
  {
   "cell_type": "code",
   "execution_count": 10,
   "metadata": {},
   "outputs": [],
   "source": [
    "# Run this just once.this converts the csv data into a dictionary\n",
    "DATA = DATA.set_index('Identifier').T.to_dict('list') "
   ]
  },
  {
   "cell_type": "code",
   "execution_count": 11,
   "metadata": {},
   "outputs": [
    {
     "name": "stdout",
     "output_type": "stream",
     "text": [
      "{'twitch': [0, 2, 3, 4, 5, 7, 8, 9, 10, 11, 12, 14, 15, 16, 17, 19, 20, 21, 22, 23, 24, 25, 29], 'irc': [0], 'twitch plays pokÃ©mon': [0], 'tpp': [0, 3, 18, 26, 28, 29, 30], 'pokÃ©mon': [0], 'pokemon': [0, 2, 3, 4, 5, 7, 8, 9, 10, 11, 12, 14, 15, 16, 17, 18, 19, 20, 21, 22, 23, 24, 25, 26, 27, 28, 30, 31, 38], 'pokemon red': [0], 'pokÃ©mon red': [0], 'red': [0], 'nan': [1], 'twitch plays pokemon': [2, 6, 18, 27, 31], 'screenshot': [3, 30], 'twitchplayspokemon': [3, 7, 15, 16, 17, 20, 23, 24, 25, 26, 27, 28, 30, 31, 33], 'democracy': [3, 30], 'emulator': [3, 4, 5, 7, 8, 9, 10, 12, 14, 15, 16, 17, 19, 20, 21, 23, 24, 25, 26, 27, 28, 29, 30], 'save file': [4, 5, 7, 8, 9, 10, 12, 14, 15, 16, 17, 19, 20, 21, 23, 24, 25, 27], 'student': [11], 'radio': [11], 'nerd': [11], 'geek': [11, 45], 'belfield': [11], 'fm': [11], 'ucd': [11], 'dublin': [11], 'ireland': [11], 'Gaming': [13, 37, 42], 'youtube': [13], 'GameTrailers': [13], 'moemon': [15], 'dec3199': [22], 'live': [22], 'comments': [22], 'nintendo': [22], 'game freak': [22], 'ending': [22], 'battle': [22], 'xd minglee': [24], 'touhou': [25], 'revo': [26, 28], 'projectrevotpp': [26, 27, 31], 'sgm': [26], 'Projectrevotpp': [28], 'patch': [28], 'ips': [28], 'pmd': [29], 'viet crystal': [30], 'elf': [30], 'bort': [30], 'oqt': [30], 'save': [31], 'Vito Gesualdi': [32, 34, 35, 36], 'VitoZone': [32, 34, 35, 36], 'Twitch': [32, 34, 35, 36], 'live stream': [32, 34, 35, 36], 'video games': [32, 34, 35, 36, 40, 41, 45], 'PokÃ©mon Trading Card Game Online': [32, 34, 35, 36], 'Youtube': [37, 38], 'video': [37, 38], 'funny pokemon pictures': [37], 'Pokemon memes': [37], 'Pokemon memes 2014': [37], 'Pokemon memes funny': [37], 'Pokemon memes 1': [37], 'Pokemon memes 5': [37], 'Pokemon memes 6': [37], 'funny Pokemon memes pictures': [37], 'best Pokemon memes': [37], 'funniest Pokemon memes': [37], 'twitch plays Pokemon memes': [37], 'Pokemon shaming is now a thing': [37], 'Pokemon': [37, 42, 43, 44, 47], 'Pokemon Omega Ruby and Alpha sapphire': [37], 'Pokemon X and Y': [37], 'PokÃ©mon (Brand)': [37], 'PokÃ©mon (TV Program)': [37], 'PokÃ©mon (Video Game Series)': [37], 'funny picture': [37], 'People & Blogs': [38], 'Gameplay pokemon go - teespring com [Summit1G]': [38], 'gameplay pokemon go': [38], 'PokÃ©mon Go - Mobile game': [38], 'pokemon go trailer': [38], 'pokemon go android': [38], 'pokemon go descargar': [38], 'pokemon go battle': [38], 'pokemon go': [38], 'PokÃ©mon Go': [38], 'PokÃ©mon - Brand': [38], 'Gameplay pokemon go - Twitch Plays Pokemon Go': [38], 'regional observations': [39], 'documentaries': [39], 'traveling woes': [39], 'HD television': [39], 'Craig calls technology': [39], 'Twitch Plays Pokemon': [39], 'and Pokemon general': [39], 'anime': [40, 41], 'podcast': [40, 41, 44, 45, 46, 49], 'nerds': [40, 41], 'Twitch plays pokemon': [42, 44], 'Twitch.tv': [42], 'Blizzard': [42], 'Games': [42], 'Technology': [42], 'News': [42], '3 Hit Combo Podcast': [42], 'Comedy': [42], 'Podcast': [42, 43, 47, 48], 'Funny': [42], 'Video Games': [43, 47], 'Pinball': [43, 47], 'Sesame Street': [43], 'Hot pockets': [44], 'games': [44], 'gaming': [44, 46], 'technology': [44], 'comedy': [44], 'funny': [44], 'news': [44, 45], '3 hit combo podcast': [44], 'tech': [45], 'comics': [45], 'movies': [45], 'television': [45], 'Fallout 4': [46], 'Transistor': [46], 'Titanfall': [46], 'Doom': [46], 'Irrational Games': [46], 'Twitch plays Pokemon': [46], 'Chroma': [46], 'Rune Factory 4': [46], 'Video Games in March': [46], 'Factoria': [47], '#swag': [48], 'Jolly Swag Men': [48], 'J#SM': [48], 'Jolly #Swag Men': [48], 'mindcrack': [49]}\n"
     ]
    }
   ],
   "source": [
    "def make_inverted_index(data, clustered_tags):\n",
    "    inverted_index = {}\n",
    "    popularity_index = {}\n",
    "    for i, doc in enumerate(data):\n",
    "        doc_tags = str(data[doc][0]).split(\",\")\n",
    "        for tag in doc_tags:\n",
    "            for clustered_tag in clustered_tags:\n",
    "                arr = clustered_tags.get(clustered_tag, None)\n",
    "                if arr:  arr.append(clustered_tag)\n",
    "                else:continue\n",
    "                if tag in arr:\n",
    "                    if inverted_index.get(tag, None):\n",
    "                        inverted_index[tag].append(i)\n",
    "                        popularity_index[tag] += 1\n",
    "                    else:\n",
    "                        inverted_index[tag] = [i]\n",
    "                        popularity_index[tag] = 1\n",
    "                    break\n",
    "    return inverted_index, popularity_index\n",
    "                     \n",
    "inverted_index, popularity_index = make_inverted_index(DATA, clustered_tags)\n",
    "#print(\"Inverted index for trump\", inverted_index[\"trump\"])\n",
    "#print(\"Popularity index for trump\", popularity_index[\"trump\"])\n",
    "print(inverted_index)"
   ]
  },
  {
   "cell_type": "markdown",
   "metadata": {},
   "source": [
    "In the following function we use cosine similarity to find similar tags."
   ]
  },
  {
   "cell_type": "code",
   "execution_count": 14,
   "metadata": {},
   "outputs": [
    {
     "data": {
      "text/plain": [
       "['save file', 'emulator', 'pokemon', 'twitchplayspokemon']"
      ]
     },
     "execution_count": 14,
     "metadata": {},
     "output_type": "execute_result"
    }
   ],
   "source": [
    "def get_similar_tags(query, inverted_index):\n",
    "    query = query.lower()\n",
    "    array_of_docs = []\n",
    "    array_of_tags = []\n",
    "    first_loop = True\n",
    "    for key in inverted_index:\n",
    "        row = \",\".join([ str(x) for x in inverted_index[key]])\n",
    "        array_of_docs.append(row)\n",
    "        array_of_tags.append(key.lower())\n",
    "    array_of_docs = np.array(array_of_docs)  \n",
    "    if query not in array_of_tags: return []\n",
    "    t = array_of_tags.index(query)\n",
    "    \n",
    "    tfidf = TfidfVectorizer().fit_transform(array_of_docs)\n",
    "    cosine_similarities = cosine_similarity(tfidf[t:t + 1], tfidf).flatten()\n",
    "    most_similar_tags = cosine_similarities.argsort()[:-6:-1]\n",
    "    #print(\"most_similar_tags\", most_similar_tags)\n",
    "    #for t in most_similar_tags:\n",
    "        #print(array_of_docs[t:t+1])\n",
    "    similar_tags = [array_of_tags[i] for i in most_similar_tags]\n",
    "    return similar_tags[1:]\n",
    "\n",
    "get_similar_tags(\"twitch\", inverted_index)"
   ]
  },
  {
   "cell_type": "code",
   "execution_count": 17,
   "metadata": {},
   "outputs": [
    {
     "data": {
      "text/plain": [
       "['pokemon', 'emulator', 'save file', 'twitch']"
      ]
     },
     "execution_count": 17,
     "metadata": {},
     "output_type": "execute_result"
    }
   ],
   "source": [
    "get_similar_tags(\"twitchplayspokemon\", inverted_index)"
   ]
  },
  {
   "cell_type": "code",
   "execution_count": 105,
   "metadata": {},
   "outputs": [
    {
     "data": {
      "text/plain": [
       "[]"
      ]
     },
     "execution_count": 105,
     "metadata": {},
     "output_type": "execute_result"
    }
   ],
   "source": [
    "get_similar_tags(\"election\", inverted_index)"
   ]
  },
  {
   "cell_type": "code",
   "execution_count": 106,
   "metadata": {},
   "outputs": [
    {
     "data": {
      "text/plain": [
       "['gametrailers', 'gaming', 'oqt', 'bort']"
      ]
     },
     "execution_count": 106,
     "metadata": {},
     "output_type": "execute_result"
    }
   ],
   "source": [
    "get_similar_tags(\"Youtube\", inverted_index)"
   ]
  },
  {
   "cell_type": "code",
   "execution_count": null,
   "metadata": {},
   "outputs": [],
   "source": []
  }
 ],
 "metadata": {
  "kernelspec": {
   "display_name": "Python 3",
   "language": "python",
   "name": "python3"
  },
  "language_info": {
   "codemirror_mode": {
    "name": "ipython",
    "version": 3
   },
   "file_extension": ".py",
   "mimetype": "text/x-python",
   "name": "python",
   "nbconvert_exporter": "python",
   "pygments_lexer": "ipython3",
   "version": "3.6.2"
  }
 },
 "nbformat": 4,
 "nbformat_minor": 2
}
