{
 "cells": [
  {
   "cell_type": "markdown",
   "metadata": {},
   "source": [
    "# Tag Central\n",
    "Here we will manipulate data from the data folder(US Election tags and Twitch plays pokemon tags).\n"
   ]
  },
  {
   "cell_type": "code",
   "execution_count": 1,
   "metadata": {
    "collapsed": true
   },
   "outputs": [],
   "source": [
    "from sklearn.feature_extraction.text import TfidfVectorizer\n",
    "from sklearn.metrics.pairwise import cosine_similarity\n",
    "from sklearn.cluster import AffinityPropagation\n",
    "import numpy as np\n",
    "import pandas as pd\n",
    "import distance"
   ]
  },
  {
   "cell_type": "code",
   "execution_count": 2,
   "metadata": {
    "collapsed": true
   },
   "outputs": [],
   "source": [
    "twitch_data = pd.read_csv(\"data/Twitch Plays Pokemon Identifiers.csv\", low_memory=False, encoding = \"ISO-8859-1\")\n",
    "election_data = pd.read_csv(\"data/US Election Identifiers.csv\", low_memory=False, encoding = \"ISO-8859-1\")\n",
    "DATA = twitch_data"
   ]
  },
  {
   "cell_type": "markdown",
   "metadata": {},
   "source": [
    "Twitch data and election data are loaded using panda.\n",
    "Each dataset has two columns **Identifier** and **Subject**\n",
    "The __tokenize_tags__ function below takes each row of tags, splits them up into arrays and puts them all together into a tags array."
   ]
  },
  {
   "cell_type": "code",
   "execution_count": 45,
   "metadata": {},
   "outputs": [
    {
     "name": "stdout",
     "output_type": "stream",
     "text": [
      "['twitch', 'irc', 'twitch plays pokÃ©mon', 'tpp', 'pokÃ©mon', 'pokemon', 'pokemon red', 'pokÃ©mon red', 'red', 'nan', 'twitch', 'twitch plays pokemon', 'pokemon', 'tpp', 'pokemon', 'screenshot', 'twitchplayspokemon', 'democracy', 'emulator', 'twitch', 'twitch', 'pokemon', 'save file', 'emulator', 'twitch', 'pokemon', 'save file', 'emulator', 'twitch plays pokemon', 'twitch', 'pokemon', 'save file', 'emulator', 'twitchplayspokemon', 'twitch', 'pokemon', 'save file', 'emulator', 'twitch', 'pokemon', 'save file', 'emulator', 'twitch', 'pokemon', 'save file', 'emulator', 'pokemon', 'twitch', 'student', 'radio']\n",
      "Total number of tags 302\n"
     ]
    }
   ],
   "source": [
    "def tokenize_tags(data):\n",
    "    tags = data['Subject']\n",
    "    all_tags = []\n",
    "    for tag_string in tags:\n",
    "        tag_string = str(tag_string)\n",
    "        all_tags.extend(tag_string.split(\",\"))\n",
    "    all_tags = np.asarray(all_tags)\n",
    "    return all_tags\n",
    "\n",
    "TAGS = tokenize_tags(DATA)\n",
    "print(list(TAGS[0:50]))\n",
    "print(\"Total number of tags\", len(TAGS))"
   ]
  },
  {
   "cell_type": "code",
   "execution_count": 91,
   "metadata": {},
   "outputs": [
    {
     "name": "stdout",
     "output_type": "stream",
     "text": [
      "{'key1': ['value1'], 'key2': 'value2'}\n",
      "['value1']\n"
     ]
    }
   ],
   "source": [
    "#bla = 'ABC'\n",
    "#print(bla.lower())\n",
    "#print(bla[0:len(bla)].lower())\n",
    "#blee = 'ABCDE'\n",
    "#bla.lower() == blee[0:len(bla)].lower()\n",
    "\n",
    "dic = {'key1':['value1'], 'key2':'value2'}\n",
    "\n",
    "#if 'key1' in dic:\n",
    "#     dic['key1'].append('value2')        \n",
    "#dic['key2'] = [(dic['key2'])]\n",
    "\n",
    "\n",
    "print(dic)\n",
    "print(dic['key1'])"
   ]
  },
  {
   "cell_type": "code",
   "execution_count": null,
   "metadata": {
    "collapsed": true
   },
   "outputs": [],
   "source": []
  },
  {
   "cell_type": "code",
   "execution_count": 88,
   "metadata": {},
   "outputs": [
    {
     "name": "stdout",
     "output_type": "stream",
     "text": [
      "Match List: [4, 5, 6, 7, 12, 14, 21, 25, 30, 35, 39, 43, 46, 58, 65, 69, 75, 80, 86, 88, 92, 97, 104, 110, 115, 121, 128, 135, 143, 153, 164, 171, 178, 184, 190, 195, 196, 197, 198, 199, 200, 205, 206, 207, 208, 209, 210, 211, 218, 219, 220, 221, 222, 223, 224, 225, 226, 244, 259, 261, 294]\n",
      "\n",
      "Match Dictionary: {'pokã©mon': [4], 'pokemon': [5, 12, 14, 21, 25, 30, 35, 39, 43, 46, 58, 65, 69, 75, 80, 86, 88, 92, 97, 104, 110, 115, 121, 128, 135, 143, 153, 164, 206, 226, 244, 259, 261, 294], 'pokemon red': [6], 'pokã©mon red': [7], 'pokã©mon trading card game online': [171, 178, 184, 190], 'pokemon memes': [195], 'pokemon memes 2014': [196], 'pokemon memes funny': [197], 'pokemon memes 1': [198], 'pokemon memes 5': [199], 'pokemon memes 6': [200], 'pokemon shaming is now a thing': [205], 'pokemon omega ruby and alpha sapphire': [207], 'pokemon x and y': [208], 'pokã©mon (brand)': [209], 'pokã©mon (tv program)': [210], 'pokã©mon (video game series)': [211], 'pokã©mon go - mobile game': [218], 'pokemon go trailer': [219], 'pokemon go android': [220], 'pokemon go descargar': [221], 'pokemon go battle': [222], 'pokemon go': [223], 'pokã©mon go': [224], 'pokã©mon - brand': [225]}\n",
      "\n",
      "Match Dictionary w/ Length: {'pokã©mon': (1, [4]), 'pokemon': (34, [5, 12, 14, 21, 25, 30, 35, 39, 43, 46, 58, 65, 69, 75, 80, 86, 88, 92, 97, 104, 110, 115, 121, 128, 135, 143, 153, 164, 206, 226, 244, 259, 261, 294]), 'pokemon red': (1, [6]), 'pokã©mon red': (1, [7]), 'pokã©mon trading card game online': (4, [171, 178, 184, 190]), 'pokemon memes': (1, [195]), 'pokemon memes 2014': (1, [196]), 'pokemon memes funny': (1, [197]), 'pokemon memes 1': (1, [198]), 'pokemon memes 5': (1, [199]), 'pokemon memes 6': (1, [200]), 'pokemon shaming is now a thing': (1, [205]), 'pokemon omega ruby and alpha sapphire': (1, [207]), 'pokemon x and y': (1, [208]), 'pokã©mon (brand)': (1, [209]), 'pokã©mon (tv program)': (1, [210]), 'pokã©mon (video game series)': (1, [211]), 'pokã©mon go - mobile game': (1, [218]), 'pokemon go trailer': (1, [219]), 'pokemon go android': (1, [220]), 'pokemon go descargar': (1, [221]), 'pokemon go battle': (1, [222]), 'pokemon go': (1, [223]), 'pokã©mon go': (1, [224]), 'pokã©mon - brand': (1, [225])} \n",
      "\n",
      "index: 0\n",
      "resultsList[index]: {'pokã©mon': (1, [4])}\n",
      "resultsList[index][key][0]: 1\n"
     ]
    },
    {
     "ename": "KeyError",
     "evalue": "'pokã©mon'",
     "output_type": "error",
     "traceback": [
      "\u001b[1;31m---------------------------------------------------------------------------\u001b[0m",
      "\u001b[1;31mKeyError\u001b[0m                                  Traceback (most recent call last)",
      "\u001b[1;32m<ipython-input-88-f3fb8a1a27f3>\u001b[0m in \u001b[0;36m<module>\u001b[1;34m()\u001b[0m\n\u001b[0;32m     48\u001b[0m     \u001b[1;32mreturn\u001b[0m \u001b[0mrecList\u001b[0m\u001b[1;33m\u001b[0m\u001b[0m\n\u001b[0;32m     49\u001b[0m \u001b[1;33m\u001b[0m\u001b[0m\n\u001b[1;32m---> 50\u001b[1;33m \u001b[0mautocomplete\u001b[0m \u001b[1;33m(\u001b[0m\u001b[1;34m'pok'\u001b[0m\u001b[1;33m,\u001b[0m \u001b[0mTAGS\u001b[0m\u001b[1;33m,\u001b[0m \u001b[1;36m10\u001b[0m\u001b[1;33m)\u001b[0m\u001b[1;33m\u001b[0m\u001b[0m\n\u001b[0m",
      "\u001b[1;32m<ipython-input-88-f3fb8a1a27f3>\u001b[0m in \u001b[0;36mautocomplete\u001b[1;34m(inString, tagList, numRec)\u001b[0m\n\u001b[0;32m     34\u001b[0m             \u001b[0mprint\u001b[0m\u001b[1;33m(\u001b[0m\u001b[1;34m\"resultsList[index]:\"\u001b[0m\u001b[1;33m,\u001b[0m \u001b[0mresultsList\u001b[0m\u001b[1;33m[\u001b[0m\u001b[0mindex\u001b[0m\u001b[1;33m]\u001b[0m\u001b[1;33m)\u001b[0m\u001b[1;33m\u001b[0m\u001b[0m\n\u001b[0;32m     35\u001b[0m             \u001b[0mprint\u001b[0m\u001b[1;33m(\u001b[0m\u001b[1;34m\"resultsList[index][key][0]:\"\u001b[0m\u001b[1;33m,\u001b[0m \u001b[0mresultsList\u001b[0m\u001b[1;33m[\u001b[0m\u001b[0mindex\u001b[0m\u001b[1;33m]\u001b[0m\u001b[1;33m[\u001b[0m\u001b[0mkey\u001b[0m\u001b[1;33m]\u001b[0m\u001b[1;33m[\u001b[0m\u001b[1;36m0\u001b[0m\u001b[1;33m]\u001b[0m\u001b[1;33m)\u001b[0m\u001b[1;33m\u001b[0m\u001b[0m\n\u001b[1;32m---> 36\u001b[1;33m             \u001b[1;32mif\u001b[0m \u001b[0mresultsList\u001b[0m\u001b[1;33m[\u001b[0m\u001b[0mindex\u001b[0m\u001b[1;33m]\u001b[0m\u001b[1;33m[\u001b[0m\u001b[0mkey\u001b[0m\u001b[1;33m]\u001b[0m\u001b[1;33m[\u001b[0m\u001b[1;36m0\u001b[0m\u001b[1;33m]\u001b[0m \u001b[1;33m<\u001b[0m \u001b[0mresultsList\u001b[0m\u001b[1;33m[\u001b[0m\u001b[0mindex\u001b[0m \u001b[1;33m+\u001b[0m \u001b[1;36m1\u001b[0m\u001b[1;33m]\u001b[0m\u001b[1;33m[\u001b[0m\u001b[0mkey\u001b[0m\u001b[1;33m]\u001b[0m\u001b[1;33m[\u001b[0m\u001b[1;36m0\u001b[0m\u001b[1;33m]\u001b[0m\u001b[1;33m:\u001b[0m \u001b[1;31m#Second 'key' isn't the key referenced in for loop\u001b[0m\u001b[1;33m\u001b[0m\u001b[0m\n\u001b[0m\u001b[0;32m     37\u001b[0m                 \u001b[0mtemp\u001b[0m \u001b[1;33m=\u001b[0m \u001b[0mresultsList\u001b[0m\u001b[1;33m[\u001b[0m\u001b[0mindex\u001b[0m\u001b[1;33m]\u001b[0m\u001b[1;33m\u001b[0m\u001b[0m\n\u001b[0;32m     38\u001b[0m                 \u001b[0mresultsList\u001b[0m\u001b[1;33m[\u001b[0m\u001b[0mindex\u001b[0m \u001b[1;33m+\u001b[0m \u001b[1;36m1\u001b[0m\u001b[1;33m]\u001b[0m \u001b[1;33m=\u001b[0m \u001b[0mresultsList\u001b[0m\u001b[1;33m[\u001b[0m\u001b[0mindex\u001b[0m\u001b[1;33m]\u001b[0m\u001b[1;33m\u001b[0m\u001b[0m\n",
      "\u001b[1;31mKeyError\u001b[0m: 'pokã©mon'"
     ]
    }
   ],
   "source": [
    "def autocomplete (inString, tagList, numRec):\n",
    "    \"\"\"Suggest an autocompletion of a partially entered tag.\n",
    "    Input: string to be autocompleted, list of tags, number of recommendationds desired.\n",
    "    Output: list of recommendations in order of popularity, with the most popular version of the tag (pre-cleanup) reocommended.\"\"\"\n",
    "    #First, add indices of all tags whose first letters match the user input string to a list.\n",
    "    matchList = [] #Contains indices of matches to instring\n",
    "    for index, tag in enumerate(tagList):\n",
    "        if inString.lower() == tag[0:len(inString)].lower():\n",
    "            matchList.append(index)\n",
    "    print(\"Match List:\", matchList)\n",
    "    \n",
    "    #Second, group the items in matchList into sets that match after cleanup.\n",
    "    matchDic = {} #Dictionary w/ term:matching indices\n",
    "    for matchIndex in matchList:\n",
    "        if tagList[matchIndex].lower() not in matchDic: #If cleaned up word is not yet in the dictionary, make it a new key within a list and add its index as a value\n",
    "            matchDic[tagList[matchIndex].lower()] = [matchIndex]\n",
    "        else: #If already in dictionary, add its index to that key's value\n",
    "            matchDic[tagList[matchIndex].lower()].append(matchIndex)\n",
    "    print('\\nMatch Dictionary:', matchDic)\n",
    "    \n",
    "    #Third, count the number of entries in each cleaned up dictionary entry and add it to the dictionary\n",
    "    for key in matchDic:\n",
    "        matchDic[key] = len(matchDic[key]), matchDic[key]\n",
    "    print('\\nMatch Dictionary w/ Length:', matchDic, '\\n')\n",
    "    \n",
    "    #Fourth, identify the most popular terms (an amount equal to numRec) and add their dictionaries to a list in popularity order.\n",
    "    resultsList = [] \n",
    "    for key in matchDic:\n",
    "        resultsList.append({key: matchDic[key]})\n",
    "    #resultsList.sort(key=lambda matchDic: matchDic[key], reverse=True)\n",
    "    for index, result in enumerate(resultsList):\n",
    "        for key in result:\n",
    "            print(\"index:\", index)\n",
    "            print(\"resultsList[index]:\", resultsList[index])\n",
    "            print(\"resultsList[index][key][0]:\", resultsList[index][key][0])\n",
    "            if resultsList[index][key][0] < resultsList[index + 1][key][0]: #Second 'key' isn't the key referenced in for loop\n",
    "                temp = resultsList[index]\n",
    "                resultsList[index + 1] = resultsList[index]\n",
    "                resultsList[index] = temp\n",
    "\n",
    "    resultsList = resultsList[0:numRec - 1]\n",
    "\n",
    "    print('\\nResults List:', resultsList)\n",
    "    \n",
    "    \n",
    "    recList = [] #Contains recommended tags, in most popular capitalization.\n",
    "    \n",
    "    return recList\n",
    "    \n",
    "autocomplete ('pok', TAGS, 10)"
   ]
  },
  {
   "cell_type": "markdown",
   "metadata": {},
   "source": [
    "__________________________________________________________________________________\n",
    "__________________________________________________________________________________"
   ]
  },
  {
   "cell_type": "markdown",
   "metadata": {},
   "source": [
    "## Clustering\n",
    "The levenshtein distance calculates how similar words are to each other based on how many steps it would take to convert one\n",
    "word to the other using deletion, and creation of new characters. This method is not as effective as cosine similarity. It's also very slow."
   ]
  },
  {
   "cell_type": "code",
   "execution_count": 4,
   "metadata": {
    "collapsed": true
   },
   "outputs": [],
   "source": [
    "#lev_similarity = -1 * np.array([[distance.levenshtein(t1.lower(),t2.lower()) for t1 in TAGS] for t2 in TAGS])\n",
    "#lev_similarity"
   ]
  },
  {
   "cell_type": "markdown",
   "metadata": {},
   "source": [
    "Here we use TFIDF vectorization to convert words to numbers and use cosine similarity function to determine how similar words are to each other. It is quick but not perfect as seen in the clustering algorithms below."
   ]
  },
  {
   "cell_type": "code",
   "execution_count": 5,
   "metadata": {},
   "outputs": [
    {
     "data": {
      "text/plain": [
       "array([[ 1.        ,  0.        ,  0.38920701, ...,  0.        ,\n",
       "         0.        ,  0.        ],\n",
       "       [ 0.        ,  1.        ,  0.        , ...,  0.        ,\n",
       "         0.        ,  0.        ],\n",
       "       [ 0.38920701,  0.        ,  1.        , ...,  0.        ,\n",
       "         0.        ,  0.        ],\n",
       "       ..., \n",
       "       [ 0.        ,  0.        ,  0.        , ...,  1.        ,\n",
       "         0.        ,  1.        ],\n",
       "       [ 0.        ,  0.        ,  0.        , ...,  0.        ,\n",
       "         1.        ,  0.        ],\n",
       "       [ 0.        ,  0.        ,  0.        , ...,  1.        ,\n",
       "         0.        ,  1.        ]])"
      ]
     },
     "execution_count": 5,
     "metadata": {},
     "output_type": "execute_result"
    }
   ],
   "source": [
    "tfidf_vectorizer=TfidfVectorizer()\n",
    "tfidf_matrix=tfidf_vectorizer.fit_transform(TAGS)\n",
    "cs_similarity = np.array([cosine_similarity(tfidf_matrix[i:i+1],tfidf_matrix).flatten() for i in range(len(TAGS))])\n",
    "cs_similarity"
   ]
  },
  {
   "cell_type": "markdown",
   "metadata": {},
   "source": [
    "This function uses Affinity Propagation to cluster words that are most similar together. It outputs a dictionary that looks like this :\n",
    "\n",
    "{ 'Most popular tag called exemplar' : [ tags similar to exemplar comma separated ] }\n",
    "\n",
    "We can explore other clustering algorithms as well."
   ]
  },
  {
   "cell_type": "code",
   "execution_count": 14,
   "metadata": {
    "collapsed": true
   },
   "outputs": [],
   "source": [
    "def cluster(data, tags):\n",
    "    affprop = AffinityPropagation(affinity=\"precomputed\", damping=0.5)\n",
    "    affprop.fit(data)\n",
    "    clustered_tags = {}\n",
    "    for cluster_id in np.unique(affprop.labels_):\n",
    "        exemplar = tags[affprop.cluster_centers_indices_[cluster_id]].lower()\n",
    "        if exemplar in list(clustered_tags.keys()):\n",
    "            arr = clustered_tags[exemplar]\n",
    "        else:\n",
    "            arr = []\n",
    "        cluster = np.unique(tags[np.nonzero(affprop.labels_==cluster_id)])\n",
    "        arr.extend(cluster.tolist())\n",
    "        clustered_tags[exemplar] =  list(set(arr))\n",
    "        cluster_str = \", \".join(cluster)\n",
    "    print(\"No, of labels\", len(clustered_tags.keys()))\n",
    "    return clustered_tags"
   ]
  },
  {
   "cell_type": "markdown",
   "metadata": {},
   "source": [
    "Cosine similarity works a little better than levenshtein distaance in predicting more similar words.\n",
    "We can explore other ways of doing this."
   ]
  },
  {
   "cell_type": "code",
   "execution_count": 15,
   "metadata": {},
   "outputs": [
    {
     "name": "stdout",
     "output_type": "stream",
     "text": [
      "No, of labels 42\n"
     ]
    },
    {
     "data": {
      "text/plain": [
       "{'3 hit combo podcast': ['ips', '3 hit combo podcast', '3 Hit Combo Podcast'],\n",
       " 'anime': ['dublin', 'anime'],\n",
       " 'battle': ['pokemon go battle', 'battle'],\n",
       " 'belfield': ['belfield'],\n",
       " 'chroma': ['fm', 'Chroma'],\n",
       " 'comedy': ['comedy', 'Comedy', 'comments'],\n",
       " 'democracy': ['democracy'],\n",
       " 'emulator': ['ireland',\n",
       "  'traveling woes',\n",
       "  'People & Blogs',\n",
       "  'regional observations',\n",
       "  'oqt',\n",
       "  'dec3199',\n",
       "  'bort',\n",
       "  'viet crystal',\n",
       "  'nerd',\n",
       "  'revo',\n",
       "  'Blizzard',\n",
       "  'emulator',\n",
       "  'nan',\n",
       "  'J#SM',\n",
       "  'xd minglee'],\n",
       " 'funny': ['funny pokemon pictures',\n",
       "  'funny picture',\n",
       "  'Funny',\n",
       "  'funny',\n",
       "  'funny Pokemon memes pictures',\n",
       "  'Pokemon memes funny'],\n",
       " 'gametrailers': ['GameTrailers'],\n",
       " 'gaming': ['gaming', 'Gaming'],\n",
       " 'geek': ['geek'],\n",
       " 'jolly swag men': ['#swag', 'Jolly Swag Men', 'Jolly #Swag Men'],\n",
       " 'live stream': ['live', 'live stream'],\n",
       " 'nerds': ['nerds', 'Fallout 4'],\n",
       " 'news': ['News', 'news'],\n",
       " 'nintendo': ['nintendo'],\n",
       " 'pinball': ['Pinball'],\n",
       " 'podcast': ['podcast', 'Podcast'],\n",
       " 'pokemon': ['pokemon go trailer',\n",
       "  'Pokemon memes 2014',\n",
       "  'Pokemon memes 1',\n",
       "  'pokemon go',\n",
       "  'gameplay pokemon go',\n",
       "  'Pokemon memes 6',\n",
       "  'Pokemon memes 5',\n",
       "  'pokemon go descargar',\n",
       "  'pokemon',\n",
       "  'Pokemon memes',\n",
       "  'best Pokemon memes',\n",
       "  'Gameplay pokemon go - Twitch Plays Pokemon Go',\n",
       "  'pokemon go android',\n",
       "  'Pokemon',\n",
       "  'funniest Pokemon memes',\n",
       "  'Gameplay pokemon go - teespring com [Summit1G]',\n",
       "  'Pokemon shaming is now a thing'],\n",
       " 'pokemon x and y': ['and Pokemon general',\n",
       "  'Pokemon Omega Ruby and Alpha sapphire',\n",
       "  'Pokemon X and Y'],\n",
       " 'pokã©mon': ['PokÃ©mon (Brand)',\n",
       "  'PokÃ©mon Go - Mobile game',\n",
       "  'twitch plays pokÃ©mon',\n",
       "  'PokÃ©mon - Brand',\n",
       "  'PokÃ©mon (Video Game Series)',\n",
       "  'pokÃ©mon red',\n",
       "  'pokÃ©mon',\n",
       "  'PokÃ©mon (TV Program)',\n",
       "  'PokÃ©mon Go'],\n",
       " 'pokã©mon trading card game online': ['PokÃ©mon Trading Card Game Online',\n",
       "  'game freak'],\n",
       " 'projectrevotpp': ['projectrevotpp', 'Projectrevotpp'],\n",
       " 'radio': ['radio'],\n",
       " 'red': ['red', 'pmd', 'pokemon red'],\n",
       " 'rune factory 4': ['Rune Factory 4'],\n",
       " 'save file': ['elf',\n",
       "  'Transistor',\n",
       "  'movies',\n",
       "  'patch',\n",
       "  'mindcrack',\n",
       "  'tech',\n",
       "  'documentaries',\n",
       "  'save',\n",
       "  'save file',\n",
       "  'Factoria',\n",
       "  'comics'],\n",
       " 'screenshot': ['revo', 'screenshot'],\n",
       " 'sesame street': ['irc', 'Sesame Street'],\n",
       " 'sgm': ['touhou', 'sgm'],\n",
       " 'technology': ['technology', 'Craig calls technology', 'Technology'],\n",
       " 'television': ['television', 'HD television'],\n",
       " 'titanfall': ['Hot pockets', 'Titanfall', 'ending'],\n",
       " 'tpp': ['tpp'],\n",
       " 'twitch': ['Twitch Plays Pokemon',\n",
       "  'Twitch',\n",
       "  'Twitch plays pokemon',\n",
       "  'twitch plays Pokemon memes',\n",
       "  'twitch',\n",
       "  'Twitch.tv',\n",
       "  'Twitch plays Pokemon',\n",
       "  'twitch plays pokemon'],\n",
       " 'twitchplayspokemon': ['twitchplayspokemon', 'moemon'],\n",
       " 'ucd': ['ucd'],\n",
       " 'video games': ['video games',\n",
       "  'video',\n",
       "  'Irrational Games',\n",
       "  'games',\n",
       "  'Games',\n",
       "  'Video Games',\n",
       "  'Video Games in March'],\n",
       " 'vito gesualdi': ['Vito Gesualdi', 'Doom'],\n",
       " 'vitozone': ['student', 'VitoZone'],\n",
       " 'youtube': ['youtube', 'Youtube']}"
      ]
     },
     "execution_count": 15,
     "metadata": {},
     "output_type": "execute_result"
    }
   ],
   "source": [
    "#clustered_tags  = cluster(lev_similarity)\n",
    "clustered_tags = cluster(cs_similarity, TAGS)\n",
    "clustered_tags"
   ]
  },
  {
   "cell_type": "markdown",
   "metadata": {},
   "source": [
    "## Popularity Index\n",
    "Here we will prepare a popularity index dictionary that will map each (exemplar) tag to a count. The count indicates how many documents have that tag. \n",
    "This will be used in autocompletion"
   ]
  },
  {
   "cell_type": "code",
   "execution_count": 16,
   "metadata": {
    "collapsed": true
   },
   "outputs": [],
   "source": [
    "def popularity(clustered_tags, all_tags):\n",
    "    popularity_index = {}\n",
    "    for exemplar in clustered_tags:\n",
    "        count = 0\n",
    "        arr = clustered_tags[exemplar]\n",
    "        arr.append(exemplar)\n",
    "        for tag in all_tags:\n",
    "            if tag and tag in arr:\n",
    "                count +=1\n",
    "        popularity_index[exemplar] = count\n",
    "    return popularity_index\n",
    "                \n",
    "popularity_index = popularity(clustered_tags, TAGS)"
   ]
  },
  {
   "cell_type": "markdown",
   "metadata": {},
   "source": [
    "## Inverted Index\n",
    "Here we are preparing an inverted index of our tags and identifiers"
   ]
  },
  {
   "cell_type": "markdown",
   "metadata": {},
   "source": [
    "First, we convert the dataframe to a dictionary. The key is the identifier and the  the value is a string of comma separated tags.\n",
    "The **make_inverted_index** function that converts this dictionary into a dictionary where the key is the (exemplar) tag and the value is a list of documents where is occurs. The documents are labelled by their position. e.g. 0,1,2,3. This is much easier to work with than their longer values e.g. live_user_twitchplayspokemon_1407024801"
   ]
  },
  {
   "cell_type": "code",
   "execution_count": 18,
   "metadata": {},
   "outputs": [
    {
     "ename": "AttributeError",
     "evalue": "'dict' object has no attribute 'set_index'",
     "output_type": "error",
     "traceback": [
      "\u001b[0;31m---------------------------------------------------------------------------\u001b[0m",
      "\u001b[0;31mAttributeError\u001b[0m                            Traceback (most recent call last)",
      "\u001b[0;32m<ipython-input-18-8e7920b46a42>\u001b[0m in \u001b[0;36m<module>\u001b[0;34m()\u001b[0m\n\u001b[0;32m----> 1\u001b[0;31m \u001b[0mDATA\u001b[0m \u001b[0;34m=\u001b[0m \u001b[0mDATA\u001b[0m\u001b[0;34m.\u001b[0m\u001b[0mset_index\u001b[0m\u001b[0;34m(\u001b[0m\u001b[0;34m'Identifier'\u001b[0m\u001b[0;34m)\u001b[0m\u001b[0;34m.\u001b[0m\u001b[0mT\u001b[0m\u001b[0;34m.\u001b[0m\u001b[0mto_dict\u001b[0m\u001b[0;34m(\u001b[0m\u001b[0;34m'list'\u001b[0m\u001b[0;34m)\u001b[0m\u001b[0;34m\u001b[0m\u001b[0m\n\u001b[0m",
      "\u001b[0;31mAttributeError\u001b[0m: 'dict' object has no attribute 'set_index'"
     ]
    }
   ],
   "source": [
    "DATA = DATA.set_index('Identifier').T.to_dict('list')"
   ]
  },
  {
   "cell_type": "code",
   "execution_count": 19,
   "metadata": {},
   "outputs": [
    {
     "data": {
      "text/plain": [
       "{'3 hit combo podcast': [28, 42, 44],\n",
       " 'anime': [11, 40, 41],\n",
       " 'battle': [22, 38],\n",
       " 'belfield': [11],\n",
       " 'chroma': [11, 46],\n",
       " 'comedy': [22, 42, 44],\n",
       " 'democracy': [3, 30],\n",
       " 'emulator': [1,\n",
       "  3,\n",
       "  4,\n",
       "  5,\n",
       "  7,\n",
       "  8,\n",
       "  9,\n",
       "  10,\n",
       "  11,\n",
       "  11,\n",
       "  12,\n",
       "  14,\n",
       "  15,\n",
       "  16,\n",
       "  17,\n",
       "  19,\n",
       "  20,\n",
       "  21,\n",
       "  22,\n",
       "  23,\n",
       "  24,\n",
       "  24,\n",
       "  25,\n",
       "  26,\n",
       "  26,\n",
       "  27,\n",
       "  28,\n",
       "  28,\n",
       "  29,\n",
       "  30,\n",
       "  30,\n",
       "  30,\n",
       "  30,\n",
       "  38,\n",
       "  39,\n",
       "  39,\n",
       "  42,\n",
       "  48],\n",
       " 'funny': [37, 37, 37, 37, 42, 44],\n",
       " 'gametrailers': [13],\n",
       " 'gaming': [13, 37, 42, 44, 46],\n",
       " 'geek': [11, 45],\n",
       " 'jolly swag men': [48, 48, 48],\n",
       " 'live stream': [22, 32, 34, 35, 36],\n",
       " 'nerds': [40, 41, 46],\n",
       " 'news': [42, 44, 45],\n",
       " 'nintendo': [22],\n",
       " 'pinball': [43, 47],\n",
       " 'podcast': [40, 41, 42, 43, 44, 45, 46, 47, 48, 49],\n",
       " 'pokemon': [0,\n",
       "  2,\n",
       "  3,\n",
       "  4,\n",
       "  5,\n",
       "  7,\n",
       "  8,\n",
       "  9,\n",
       "  10,\n",
       "  11,\n",
       "  12,\n",
       "  14,\n",
       "  15,\n",
       "  16,\n",
       "  17,\n",
       "  18,\n",
       "  19,\n",
       "  20,\n",
       "  21,\n",
       "  22,\n",
       "  23,\n",
       "  24,\n",
       "  25,\n",
       "  26,\n",
       "  27,\n",
       "  28,\n",
       "  30,\n",
       "  31,\n",
       "  37,\n",
       "  37,\n",
       "  37,\n",
       "  37,\n",
       "  37,\n",
       "  37,\n",
       "  37,\n",
       "  37,\n",
       "  37,\n",
       "  38,\n",
       "  38,\n",
       "  38,\n",
       "  38,\n",
       "  38,\n",
       "  38,\n",
       "  38,\n",
       "  38,\n",
       "  42,\n",
       "  43,\n",
       "  44,\n",
       "  47],\n",
       " 'pokemon x and y': [37, 37, 39],\n",
       " 'pokã©mon': [0, 0, 0, 37, 37, 37, 38, 38, 38],\n",
       " 'pokã©mon trading card game online': [22, 32, 34, 35, 36],\n",
       " 'projectrevotpp': [26, 27, 28, 31],\n",
       " 'radio': [11],\n",
       " 'red': [0, 0, 29],\n",
       " 'rune factory 4': [46],\n",
       " 'save file': [4,\n",
       "  5,\n",
       "  7,\n",
       "  8,\n",
       "  9,\n",
       "  10,\n",
       "  12,\n",
       "  14,\n",
       "  15,\n",
       "  16,\n",
       "  17,\n",
       "  19,\n",
       "  20,\n",
       "  21,\n",
       "  23,\n",
       "  24,\n",
       "  25,\n",
       "  27,\n",
       "  28,\n",
       "  30,\n",
       "  31,\n",
       "  39,\n",
       "  45,\n",
       "  45,\n",
       "  45,\n",
       "  46,\n",
       "  47,\n",
       "  49],\n",
       " 'screenshot': [3, 26, 28, 30],\n",
       " 'sesame street': [0, 43],\n",
       " 'sgm': [25, 26],\n",
       " 'technology': [39, 42, 44],\n",
       " 'television': [39, 45],\n",
       " 'titanfall': [22, 44, 46],\n",
       " 'tpp': [0, 3, 18, 26, 28, 29, 30],\n",
       " 'twitch': [0,\n",
       "  2,\n",
       "  2,\n",
       "  3,\n",
       "  4,\n",
       "  5,\n",
       "  6,\n",
       "  7,\n",
       "  8,\n",
       "  9,\n",
       "  10,\n",
       "  11,\n",
       "  12,\n",
       "  14,\n",
       "  15,\n",
       "  16,\n",
       "  17,\n",
       "  18,\n",
       "  19,\n",
       "  20,\n",
       "  21,\n",
       "  22,\n",
       "  23,\n",
       "  24,\n",
       "  25,\n",
       "  27,\n",
       "  29,\n",
       "  31,\n",
       "  32,\n",
       "  34,\n",
       "  35,\n",
       "  36,\n",
       "  37,\n",
       "  39,\n",
       "  42,\n",
       "  42,\n",
       "  44,\n",
       "  46],\n",
       " 'twitchplayspokemon': [3,\n",
       "  7,\n",
       "  15,\n",
       "  15,\n",
       "  16,\n",
       "  17,\n",
       "  20,\n",
       "  23,\n",
       "  24,\n",
       "  25,\n",
       "  26,\n",
       "  27,\n",
       "  28,\n",
       "  30,\n",
       "  31,\n",
       "  33],\n",
       " 'ucd': [11],\n",
       " 'video games': [32, 34, 35, 36, 37, 38, 40, 41, 42, 43, 44, 45, 46, 46, 47],\n",
       " 'vito gesualdi': [32, 34, 35, 36, 46],\n",
       " 'vitozone': [11, 32, 34, 35, 36],\n",
       " 'youtube': [13, 37, 38]}"
      ]
     },
     "execution_count": 19,
     "metadata": {},
     "output_type": "execute_result"
    }
   ],
   "source": [
    "def make_inverted_index(data, clustered_tags):\n",
    "    inverted_index = {}\n",
    "    for i, doc in enumerate(data):\n",
    "        doc_tags = str(data[doc][0]).split(\",\")\n",
    "        for j, exemplar in enumerate(clustered_tags):\n",
    "            arr = clustered_tags[exemplar]\n",
    "            arr.append(exemplar)\n",
    "            for tag in doc_tags:\n",
    "                if tag in arr:\n",
    "                    if inverted_index.get(exemplar, None):\n",
    "                        inverted_index[exemplar].append(i)  \n",
    "                    else:\n",
    "                        inverted_index[exemplar] = [i]\n",
    "    return inverted_index\n",
    "                     \n",
    "inverted_index = make_inverted_index(DATA, clustered_tags)\n",
    "inverted_index"
   ]
  },
  {
   "cell_type": "code",
   "execution_count": 20,
   "metadata": {
    "collapsed": true
   },
   "outputs": [],
   "source": [
    "def get_similar_tags(tag, clustered_tags, inverted_index):\n",
    "    array_of_exemplars = [key for key in clustered_tags]\n",
    "    if tag.lower() not in array_of_exemplars:\n",
    "        return []\n",
    "    index  = array_of_exemplars.index(tag.lower())\n",
    "    array_of_docs = [','.join(str(doc) for doc in inverted_index[exemplar]) for exemplar in array_of_exemplars]\n",
    "    tfidf = TfidfVectorizer().fit_transform(array_of_docs)\n",
    "    cosine_similarities = cosine_similarity(tfidf[index:index+1], tfidf).flatten()\n",
    "    most_similar_tags = cosine_similarities.argsort()[:-5:-1]\n",
    "    similar_tags = [array_of_exemplars[i] for i in most_similar_tags]\n",
    "    return similar_tags[1:]"
   ]
  },
  {
   "cell_type": "code",
   "execution_count": 21,
   "metadata": {},
   "outputs": [
    {
     "data": {
      "text/plain": [
       "['pokã©mon', 'youtube', 'funny']"
      ]
     },
     "execution_count": 21,
     "metadata": {},
     "output_type": "execute_result"
    }
   ],
   "source": [
    "get_similar_tags(\"pokemon\", clustered_tags, inverted_index)"
   ]
  },
  {
   "cell_type": "markdown",
   "metadata": {},
   "source": [
    "Using the andSearch from homework 4\n",
    "    "
   ]
  },
  {
   "cell_type": "code",
   "execution_count": null,
   "metadata": {
    "collapsed": true
   },
   "outputs": [],
   "source": []
  }
 ],
 "metadata": {
  "kernelspec": {
   "display_name": "Python 3",
   "language": "python",
   "name": "python3"
  },
  "language_info": {
   "codemirror_mode": {
    "name": "ipython",
    "version": 3
   },
   "file_extension": ".py",
   "mimetype": "text/x-python",
   "name": "python",
   "nbconvert_exporter": "python",
   "pygments_lexer": "ipython3",
   "version": "3.6.2"
  }
 },
 "nbformat": 4,
 "nbformat_minor": 2
}
