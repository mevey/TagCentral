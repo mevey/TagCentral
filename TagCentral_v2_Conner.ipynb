{
 "cells": [
  {
   "cell_type": "markdown",
   "metadata": {},
   "source": [
    "# Tag Central\n",
    "Here we will manipulate data from the data folder(US Election tags and Twitch plays pokemon tags).\n"
   ]
  },
  {
   "cell_type": "code",
   "execution_count": 16,
   "metadata": {},
   "outputs": [],
   "source": [
    "from sklearn.feature_extraction.text import TfidfVectorizer\n",
    "from sklearn.metrics.pairwise import cosine_similarity\n",
    "from sklearn.cluster import AffinityPropagation\n",
    "import numpy as np\n",
    "import pandas as pd\n",
    "import distance"
   ]
  },
  {
   "cell_type": "code",
   "execution_count": 17,
   "metadata": {},
   "outputs": [],
   "source": [
    "twitch_data = pd.read_csv(\"data/Twitch Plays Pokemon Identifiers.csv\", low_memory=False, encoding = \"ISO-8859-1\")\n",
    "election_data = pd.read_csv(\"data/US Election Identifiers.csv\", low_memory=False, encoding = \"ISO-8859-1\")\n",
    "\n",
    "DATA = election_data"
   ]
  },
  {
   "cell_type": "markdown",
   "metadata": {},
   "source": [
    "Twitch data and election data are loaded using panda.\n",
    "Each dataset has two columns **Identifier** and **Subject**\n",
    "The __tokenize_tags__ function below takes each row of tags, splits them up into arrays and puts them all together into a tags array."
   ]
  },
  {
   "cell_type": "code",
   "execution_count": 18,
   "metadata": {},
   "outputs": [
    {
     "name": "stdout",
     "output_type": "stream",
     "text": [
      "['Youtube', 'video', 'Entertainment', 'Superbocky', 'Ran', 'ran', 'ruu', 'Mcroll', 'Japanese', 'Ronald']\n",
      "Total number of tags 45007\n"
     ]
    }
   ],
   "source": [
    "def tokenize_tags(data):\n",
    "    tags = data['Subject']\n",
    "    all_tags = []\n",
    "    for tag_string in tags:\n",
    "        tag_string = str(tag_string)\n",
    "        all_tags.extend(tag_string.split(\",\"))\n",
    "    all_tags = np.asarray(all_tags)\n",
    "    return all_tags\n",
    "\n",
    "TAGS = tokenize_tags(DATA)\n",
    "print(list(TAGS[0:10]))\n",
    "print(\"Total number of tags\", len(TAGS))"
   ]
  },
  {
   "cell_type": "markdown",
   "metadata": {},
   "source": [
    "## Inverted Index\n",
    "Here we are preparing an inverted index of our tags and identifiers"
   ]
  },
  {
   "cell_type": "markdown",
   "metadata": {},
   "source": [
    "First, we convert the dataframe to a dictionary. The key is the identifier and the  the value is a string of comma separated tags.\n",
    "The **make_inverted_index** function that converts this dictionary into a dictionary where the key is a tag and the value is a list of documents where is occurs. The documents are labelled by their position. e.g. 0,1,2,3. This is much easier to work with than their longer values e.g. live_user_twitchplayspokemon_1407024801\n",
    "\n",
    "We create the popularity index and inverted index at the same time."
   ]
  },
  {
   "cell_type": "code",
   "execution_count": 19,
   "metadata": {},
   "outputs": [],
   "source": [
    "# Run this just once.this converts the csv data into a dictionary\n",
    "DATA = DATA.set_index('Identifier').T.to_dict('list')"
   ]
  },
  {
   "cell_type": "code",
   "execution_count": 20,
   "metadata": {},
   "outputs": [],
   "source": [
    "def cleanup(word):  \n",
    "    if (word == None):\n",
    "            print(\"Fingerprint keyer accepts a single string parameter\")\n",
    "    # remove whitespace around the string\n",
    "    word = word.strip()\n",
    "    # lowercase the string\n",
    "    word = word.lower()\n",
    "    # remove all punctuation and control chars, per https://stackoverflow.com/questions/5843518/remove-all-special-characters-punctuation-and-spaces-from-string\n",
    "    word = ''.join(e for e in word if e.isalnum())\n",
    "    # finds ASCII equivalent, per https://stackoverflow.com/questions/21701968/python-the-standard-library-ascii-function\n",
    "    # not sure if the ascii() function is needed, leaving out to test\n",
    "    #word = ascii(word)\n",
    "    # splits the word by whitespace, per https://www.tutorialspoint.com/python/string_split.htm\n",
    "    word = word.split()\n",
    "    # removes duplicates\n",
    "    word = \"\".join(list(set(word)))\n",
    "    # sorts array in place \n",
    "    return word"
   ]
  },
  {
   "cell_type": "code",
   "execution_count": 21,
   "metadata": {},
   "outputs": [],
   "source": [
    "def make_inverted_index(data):\n",
    "    inverted_index = {}\n",
    "    popularity_index = {}\n",
    "    for i, doc in enumerate(data):\n",
    "        doc_tags = str(data[doc][0]).split(\",\")\n",
    "        for tag in doc_tags:\n",
    "            if inverted_index.get(tag, None):\n",
    "                inverted_index[tag].append(i)\n",
    "                popularity_index[tag] += 1\n",
    "            else:\n",
    "                inverted_index[tag] = [i]\n",
    "                popularity_index[tag] = 1\n",
    "    return inverted_index, popularity_index"
   ]
  },
  {
   "cell_type": "code",
   "execution_count": 22,
   "metadata": {},
   "outputs": [],
   "source": [
    "def make_inverted_index_clean(data):\n",
    "    inverted_index = {}\n",
    "    popularity_index = {}\n",
    "    for i, doc in enumerate(data):\n",
    "        doc_tags = str(data[doc][0]).split(\",\")\n",
    "        for tag in doc_tags:\n",
    "            tag = cleanup(tag) #CLEANUP OCCURS HERE\n",
    "            if inverted_index.get(tag, None):\n",
    "                inverted_index[tag].append(i)\n",
    "                popularity_index[tag] += 1\n",
    "            else:\n",
    "                inverted_index[tag] = [i]\n",
    "                popularity_index[tag] = 1\n",
    "    return inverted_index, popularity_index"
   ]
  },
  {
   "cell_type": "code",
   "execution_count": 23,
   "metadata": {},
   "outputs": [],
   "source": [
    "#Generate clean and dirty indices\n",
    "inverted_index, popularity_index = make_inverted_index(DATA)\n",
    "inverted_index_clean, popularity_index_clean = make_inverted_index_clean(DATA)"
   ]
  },
  {
   "cell_type": "code",
   "execution_count": 24,
   "metadata": {},
   "outputs": [],
   "source": [
    "def recommendOriginal(invIndex, invIndexClean, query):\n",
    "    \"\"\"Take an input of a partial string (e.g. 'Tru').\n",
    "    Clean input.\n",
    "    Access inverted index to find matching (cleaned) tags.\n",
    "    Figure out which matching cleaned tags are most popuar.\n",
    "    Recommend uncleaned version of most popular tag.\"\"\"\n",
    "    cleanQuery = cleanup(query)\n",
    "    matchList = []\n",
    "    #Find all clean tags that match the clean query\n",
    "    for tag in invIndexClean:\n",
    "        if cleanQuery in tag:\n",
    "            matchList.append([tag, len(invIndexClean[tag])])\n",
    "    #print(\"matchList:\", matchList)\n",
    "    #find most popular tag in matchList\n",
    "    highest = 0\n",
    "    topRecClean = \"\"\n",
    "    for (tag, popularity) in matchList:\n",
    "        #print(\"tag:\", tag, \"popularity:\", popularity)\n",
    "        if popularity > highest:\n",
    "            highest = popularity\n",
    "            topRecClean = tag\n",
    "    #print(topRecClean)\n",
    "    #print(highest)\n",
    "    \n",
    "    #What is original version of topRec with the highest popularity?\n",
    "    #Data is dictionary of element:tags\n",
    "    #Look in the dirty index\n",
    "    #Find the multiple tags that clean to cleanquery\n",
    "    #Recommend the most popular one\n",
    "    dirtyMatches = []\n",
    "    topRecDirty = \"\"\n",
    "    highestDirty = 0\n",
    "    \n",
    "    for tag in invIndex:\n",
    "        if topRecClean == cleanup(tag):\n",
    "            dirtyMatches.append([tag, len(invIndex[tag])])\n",
    "    \n",
    "    #print(\"Dirty matches:\", dirtyMatches)\n",
    "    for (tag, popularity) in dirtyMatches:\n",
    "        if popularity > highestDirty:\n",
    "            highestDirty = popularity\n",
    "            dirtyRec = tag\n",
    "    return dirtyRec"
   ]
  },
  {
   "cell_type": "code",
   "execution_count": 25,
   "metadata": {},
   "outputs": [
    {
     "name": "stdout",
     "output_type": "stream",
     "text": [
      "Hillary Clinton\n"
     ]
    }
   ],
   "source": [
    "print(recommendOriginal(inverted_index, inverted_index_clean, 'hillary'))"
   ]
  },
  {
   "cell_type": "markdown",
   "metadata": {},
   "source": [
    "In the following function we use cosine similarity to find similar tags."
   ]
  },
  {
   "cell_type": "code",
   "execution_count": 15,
   "metadata": {},
   "outputs": [
    {
     "name": "stdout",
     "output_type": "stream",
     "text": [
      "most_similar_tags [ 390   15 2714 2705 2707 2720 2708 2709 2713  470]\n",
      "president [ '30,40,161,192,228,297,310,325,326,330,339,364,366,375,391,404,423,440,445,457,842,849,919,925,975,988,995,1000,1041,1093,1102,1126,1132,1144,1155,1167,1198,1205,1219,1232,1242,1251,1353,1423,1434,1439,1448,1453,1461,1470,1481,1574,1586']\n",
      "election [ '1,39,44,48,58,65,67,91,116,124,141,147,160,169,185,186,202,210,215,224,226,283,292,294,297,305,306,321,325,326,327,328,329,335,339,341,343,350,353,356,359,364,370,375,376,377,378,381,383,385,387,391,392,397,400,418,420,423,440,446,456,473,476,492,520,524,533,534,535,548,553,562,742,759,843,864,896,897,898,907,912,919,925,933,941,954,955,963,968,970,971,972,975,976,977,988,992,993,995,996,997,998,999,1000,1028,1032,1041,1044,1059,1070,1080,1081,1083,1086,1093,1099,1101,1102,1104,1126,1131,1132,1133,1136,1139,1141,1143,1144,1145,1152,1155,1164,1166,1170,1174,1176,1179,1182,1190,1205,1214,1215,1218,1219,1226,1228,1230,1232,1233,1235,1238,1239,1242,1244,1245,1251,1252,1280,1312,1313,1314,1315,1316,1317,1318,1319,1320,1321,1322,1323,1324,1332,1339,1340,1341,1342,1353,1365,1366,1367,1368,1382,1383,1384,1385,1386,1387,1388,1416,1417,1418,1420,1423,1427,1428,1432,1434,1435,1436,1439,1441,1453,1461,1466,1470,1472,1474,1477,1481,1489,1504,1508,1513,1519,1528,1530,1531,1533,1535,1574,1581,1584,1585,1586,1597,1598,1599,1601']\n",
      "terrorists ['228,842,849,1167']\n",
      "hillaryclintoncampaign ['228,842,849,1167']\n",
      "berniesandersvoters ['228,842,849,1167']\n",
      "moneylaundering ['228,842,849,1167']\n",
      "stolenelection ['228,842,849,1167']\n",
      "imwithher ['228,842,849,1167']\n",
      "terrorfunding ['228,842,849,1167']\n",
      "america [ '39,40,161,183,220,277,310,314,338,360,366,403,408,423,445,492,498,976,995,1032,1062,1198,1246,1247,1249,1328,1439,1452,1470,1477,1497,1498,1500,1510,1515,1517,1520,1521,1522,1523,1528,1541,1543,1550,1555,1594']\n"
     ]
    },
    {
     "data": {
      "text/plain": [
       "['President',\n",
       " 'Election',\n",
       " 'terrorists',\n",
       " 'Hillary Clinton Campaign',\n",
       " 'Bernie Sanders Voters',\n",
       " 'money laundering',\n",
       " 'Stolen Election',\n",
       " \"I'm with Her\",\n",
       " 'terror funding',\n",
       " 'america']"
      ]
     },
     "execution_count": 15,
     "metadata": {},
     "output_type": "execute_result"
    }
   ],
   "source": [
    "def get_similar_tags(tag, inverted_index, inverted_index_clean, numRec):\n",
    "    tag = cleanup(tag)\n",
    "    array_of_docs = []\n",
    "    array_of_tags = []\n",
    "    first_loop = True\n",
    "    for key in inverted_index_clean:\n",
    "        row = \",\".join([ str(x) for x in inverted_index_clean[key]])\n",
    "        array_of_docs.append(row)\n",
    "        array_of_tags.append(key)\n",
    "    array_of_docs = np.array(array_of_docs)  \n",
    "    if tag not in array_of_tags: return []\n",
    "    t = array_of_tags.index(tag)\n",
    "    \n",
    "    tfidf = TfidfVectorizer().fit_transform(array_of_docs)\n",
    "    cosine_similarities = cosine_similarity(tfidf[t:t + 1], tfidf).flatten()\n",
    "    most_similar_tags = cosine_similarities.argsort()[:-(numRec + 1):-1]\n",
    "    print(\"most_similar_tags\", most_similar_tags)\n",
    "    for t in most_similar_tags:\n",
    "        print(array_of_tags[t], array_of_docs[t:t+1])\n",
    "    similar_tags = [array_of_tags[i] for i in most_similar_tags]\n",
    "    similar_Original_tags = []\n",
    "    for tag in similar_tags:\n",
    "        similar_Original_tags.append(recommendOriginal(inverted_index, inverted_index_clean, tag))\n",
    "    return similar_Original_tags[0:]\n",
    "\n",
    "get_similar_tags(\"president\", inverted_index, inverted_index_clean, 10)"
   ]
  },
  {
   "cell_type": "code",
   "execution_count": 140,
   "metadata": {},
   "outputs": [
    {
     "data": {
      "text/plain": [
       "['Hillary Clinton',\n",
       " 'Donald Trump',\n",
       " 'Infowars',\n",
       " 'Alex Jones',\n",
       " 'News & Politics',\n",
       " 'video',\n",
       " 'Donald Trump',\n",
       " 'Youtube',\n",
       " 'Bernie Sanders',\n",
       " 'Benghazi']"
      ]
     },
     "execution_count": 140,
     "metadata": {},
     "output_type": "execute_result"
    }
   ],
   "source": [
    "get_similar_tags(\"Hillary Clinton\", inverted_index, inverted_index_clean, 10)"
   ]
  },
  {
   "cell_type": "code",
   "execution_count": 131,
   "metadata": {},
   "outputs": [
    {
     "data": {
      "text/plain": [
       "['Election',\n",
       " 'Hillary Clinton',\n",
       " 'Hillary Clinton',\n",
       " 'Donald Trump',\n",
       " 'Infowars',\n",
       " 'News & Politics',\n",
       " 'Alex Jones',\n",
       " 'Youtube',\n",
       " 'video',\n",
       " 'Hack']"
      ]
     },
     "execution_count": 131,
     "metadata": {},
     "output_type": "execute_result"
    }
   ],
   "source": [
    "get_similar_tags(\"election\", inverted_index, inverted_index_clean, 10)"
   ]
  },
  {
   "cell_type": "code",
   "execution_count": 102,
   "metadata": {},
   "outputs": [
    {
     "data": {
      "text/plain": [
       "['President', 'presidential election', 'activist', 'voters lists']"
      ]
     },
     "execution_count": 102,
     "metadata": {},
     "output_type": "execute_result"
    }
   ],
   "source": [
    "get_similar_tags(\"election\", inverted_index, inverted_index_clean)"
   ]
  },
  {
   "cell_type": "code",
   "execution_count": 9,
   "metadata": {},
   "outputs": [
    {
     "data": {
      "text/plain": [
       "['video', 'News & Politics', '2016', 'PEG']"
      ]
     },
     "execution_count": 9,
     "metadata": {},
     "output_type": "execute_result"
    }
   ],
   "source": [
    "get_similar_tags(\"Youtube\", inverted_index)"
   ]
  },
  {
   "cell_type": "code",
   "execution_count": 133,
   "metadata": {},
   "outputs": [
    {
     "data": {
      "text/plain": [
       "['Youtube',\n",
       " 'video',\n",
       " 'News & Politics',\n",
       " '2016',\n",
       " 'PEG',\n",
       " 'Community Media',\n",
       " 'Public Access TV',\n",
       " 'Infowars',\n",
       " 'Alex Jones',\n",
       " 'Hillary Clinton']"
      ]
     },
     "execution_count": 133,
     "metadata": {},
     "output_type": "execute_result"
    }
   ],
   "source": [
    "get_similar_tags(\"youtube\", inverted_index, inverted_index_clean, 10)"
   ]
  },
  {
   "cell_type": "code",
   "execution_count": 141,
   "metadata": {},
   "outputs": [
    {
     "data": {
      "text/plain": [
       "['Donald Trump',\n",
       " 'Hillary Clinton',\n",
       " 'Donald Trump',\n",
       " 'Donald Trump',\n",
       " 'Hillary Clinton',\n",
       " 'News & Politics',\n",
       " 'Infowars',\n",
       " 'obama',\n",
       " 'Election',\n",
       " 'video']"
      ]
     },
     "execution_count": 141,
     "metadata": {},
     "output_type": "execute_result"
    }
   ],
   "source": [
    "get_similar_tags(\"trump\", inverted_index, inverted_index_clean, 10)"
   ]
  },
  {
   "cell_type": "code",
   "execution_count": null,
   "metadata": {
    "collapsed": true
   },
   "outputs": [],
   "source": [
    "# \n",
    "# Trump returns different results than trump"
   ]
  }
 ],
 "metadata": {
  "kernelspec": {
   "display_name": "Python 3",
   "language": "python",
   "name": "python3"
  },
  "language_info": {
   "codemirror_mode": {
    "name": "ipython",
    "version": 3.0
   },
   "file_extension": ".py",
   "mimetype": "text/x-python",
   "name": "python",
   "nbconvert_exporter": "python",
   "pygments_lexer": "ipython3",
   "version": "3.6.2"
  }
 },
 "nbformat": 4,
 "nbformat_minor": 0
}