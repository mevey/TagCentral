{
 "cells": [
  {
   "cell_type": "markdown",
   "metadata": {},
   "source": [
    "# Tag Central\n",
    "Here we will manipulate data from the data folder(US Election tags and Twitch plays pokemon tags).\n"
   ]
  },
  {
   "cell_type": "code",
   "execution_count": 21,
   "metadata": {
    "collapsed": true
   },
   "outputs": [],
   "source": [
    "from sklearn.feature_extraction.text import TfidfVectorizer\n",
    "from sklearn.metrics.pairwise import cosine_similarity\n",
    "from sklearn.cluster import AffinityPropagation\n",
    "import numpy as np\n",
    "import pandas as pd\n",
    "import distance"
   ]
  },
  {
   "cell_type": "code",
   "execution_count": 22,
   "metadata": {},
   "outputs": [],
   "source": [
    "twitch_data = pd.read_csv(\"data/Twitch Plays Pokemon Identifiers.csv\", low_memory=False, encoding = \"ISO-8859-1\")\n",
    "election_data = pd.read_csv(\"data/US Election Identifiers.csv\", low_memory=False, encoding = \"ISO-8859-1\")\n",
    "\n",
    "DATA = election_data"
   ]
  },
  {
   "cell_type": "markdown",
   "metadata": {},
   "source": [
    "Twitch data and election data are loaded using panda.\n",
    "Each dataset has two columns **Identifier** and **Subject**\n",
    "The __tokenize_tags__ function below takes each row of tags, splits them up into arrays and puts them all together into a tags array."
   ]
  },
  {
   "cell_type": "code",
   "execution_count": 23,
   "metadata": {},
   "outputs": [
    {
     "name": "stdout",
     "output_type": "stream",
     "text": [
      "['Youtube', 'video', 'Entertainment', 'Superbocky', 'Ran', 'ran', 'ruu', 'Mcroll', 'Japanese', 'Ronald']\n",
      "Total number of tags 45007\n"
     ]
    }
   ],
   "source": [
    "def tokenize_tags(data):\n",
    "    tags = data['Subject']\n",
    "    all_tags = []\n",
    "    for tag_string in tags:\n",
    "        tag_string = str(tag_string)\n",
    "        all_tags.extend(tag_string.split(\",\"))\n",
    "    all_tags = np.asarray(all_tags)\n",
    "    return all_tags\n",
    "\n",
    "TAGS = tokenize_tags(DATA)\n",
    "print(list(TAGS[0:10]))\n",
    "print(\"Total number of tags\", len(TAGS))"
   ]
  },
  {
   "cell_type": "markdown",
   "metadata": {},
   "source": [
    "## Inverted Index\n",
    "Here we are preparing an inverted index of our tags and identifiers"
   ]
  },
  {
   "cell_type": "markdown",
   "metadata": {},
   "source": [
    "First, we convert the dataframe to a dictionary. The key is the identifier and the  the value is a string of comma separated tags.\n",
    "The **make_inverted_index** function that converts this dictionary into a dictionary where the key is a tag and the value is a list of documents where is occurs. The documents are labelled by their position. e.g. 0,1,2,3. This is much easier to work with than their longer values e.g. live_user_twitchplayspokemon_1407024801\n",
    "\n",
    "We create the popularity index and inverted index at the same time."
   ]
  },
  {
   "cell_type": "code",
   "execution_count": 24,
   "metadata": {},
   "outputs": [],
   "source": [
    "# Run this just once.this converts the csv data into a dictionary\n",
    "DATA = DATA.set_index('Identifier').T.to_dict('list') "
   ]
  },
  {
   "cell_type": "code",
   "execution_count": 87,
   "metadata": {
    "collapsed": true
   },
   "outputs": [],
   "source": [
    "def cleanup(word):  \n",
    "    if (word == None):\n",
    "            print(\"Fingerprint keyer accepts a single string parameter\")\n",
    "    # remove whitespace around the string\n",
    "    word = word.strip()\n",
    "    # lowercase the string\n",
    "    word = word.lower()\n",
    "    # remove all punctuation and control chars, per https://stackoverflow.com/questions/5843518/remove-all-special-characters-punctuation-and-spaces-from-string\n",
    "    word = ''.join(e for e in word if e.isalnum())\n",
    "    # finds ASCII equivalent, per https://stackoverflow.com/questions/21701968/python-the-standard-library-ascii-function\n",
    "    # not sure if the ascii() function is needed, leaving out to test\n",
    "    #word = ascii(word)\n",
    "    # splits the word by whitespace, per https://www.tutorialspoint.com/python/string_split.htm\n",
    "    word = word.split()\n",
    "    # removes duplicates\n",
    "    word = \"\".join(list(set(word)))\n",
    "    # sorts array in place \n",
    "    return word"
   ]
  },
  {
   "cell_type": "code",
   "execution_count": 88,
   "metadata": {},
   "outputs": [],
   "source": [
    "def make_inverted_index(data):\n",
    "    inverted_index = {}\n",
    "    popularity_index = {}\n",
    "    for i, doc in enumerate(data):\n",
    "        doc_tags = str(data[doc][0]).split(\",\")\n",
    "        for tag in doc_tags:\n",
    "            if inverted_index.get(tag, None):\n",
    "                inverted_index[tag].append(i)\n",
    "                popularity_index[tag] += 1\n",
    "            else:\n",
    "                inverted_index[tag] = [i]\n",
    "                popularity_index[tag] = 1\n",
    "    return inverted_index, popularity_index"
   ]
  },
  {
   "cell_type": "code",
   "execution_count": 105,
   "metadata": {},
   "outputs": [],
   "source": [
    "def make_inverted_index_clean(data):\n",
    "    inverted_index = {}\n",
    "    popularity_index = {}\n",
    "    for i, doc in enumerate(data):\n",
    "        doc_tags = str(data[doc][0]).split(\",\")\n",
    "        for tag in doc_tags:\n",
    "            tag = cleanup(tag) #CLEANUP OCCURS HERE\n",
    "            if inverted_index.get(tag, None):\n",
    "                inverted_index[tag].append(i)\n",
    "                popularity_index[tag] += 1\n",
    "            else:\n",
    "                inverted_index[tag] = [i]\n",
    "                popularity_index[tag] = 1\n",
    "    return inverted_index, popularity_index"
   ]
  },
  {
   "cell_type": "code",
   "execution_count": 106,
   "metadata": {
    "collapsed": true
   },
   "outputs": [],
   "source": [
    "#Generate clean and dirty indices\n",
    "inverted_index, popularity_index = make_inverted_index(DATA)\n",
    "inverted_index_clean, popularity_index_clean = make_inverted_index_clean(DATA)"
   ]
  },
  {
   "cell_type": "code",
   "execution_count": 107,
   "metadata": {},
   "outputs": [],
   "source": [
    "def recommendOriginal(invIndex, invIndexClean, query):\n",
    "    \"\"\"Take an input of a partial string (e.g. 'Tru').\n",
    "    Clean input.\n",
    "    Access inverted index to find matching (cleaned) tags.\n",
    "    Figure out which matching cleaned tags are most popuar.\n",
    "    Recommend uncleaned version of most popular tag.\"\"\"\n",
    "    cleanQuery = cleanup(query)\n",
    "    matchList = []\n",
    "    #Find all clean tags that match the clean query\n",
    "    for tag in invIndexClean:\n",
    "        if cleanQuery in tag:\n",
    "            matchList.append([tag, len(invIndexClean[tag])])\n",
    "    #print(\"matchList:\", matchList)\n",
    "    #find most popular tag in matchList\n",
    "    highest = 0\n",
    "    topRecClean = \"\"\n",
    "    for (tag, popularity) in matchList:\n",
    "        #print(\"tag:\", tag, \"popularity:\", popularity)\n",
    "        if popularity > highest:\n",
    "            highest = popularity\n",
    "            topRecClean = tag\n",
    "    #print(topRecClean)\n",
    "    #print(highest)\n",
    "    \n",
    "    #What is original version of topRec with the highest popularity?\n",
    "    #Data is dictionary of element:tags\n",
    "    #Look in the dirty index\n",
    "    #Find the multiple tags that clean to cleanquery\n",
    "    #Recommend the most popular one\n",
    "    dirtyMatches = []\n",
    "    topRecDirty = \"\"\n",
    "    highestDirty = 0\n",
    "    \n",
    "    for tag in invIndex:\n",
    "        if topRecClean == cleanup(tag):\n",
    "            dirtyMatches.append([tag, len(invIndex[tag])])\n",
    "    \n",
    "    #print(\"Dirty matches:\", dirtyMatches)\n",
    "    for (tag, popularity) in dirtyMatches:\n",
    "        if popularity > highestDirty:\n",
    "            highestDirty = popularity\n",
    "            dirtyRec = tag\n",
    "    return dirtyRec"
   ]
  },
  {
   "cell_type": "code",
   "execution_count": 108,
   "metadata": {},
   "outputs": [
    {
     "name": "stdout",
     "output_type": "stream",
     "text": [
      "Hillary Clinton\n"
     ]
    }
   ],
   "source": [
    "print(recommendOriginal(inverted_index, inverted_index_clean, 'hillary'))"
   ]
  },
  {
   "cell_type": "markdown",
   "metadata": {},
   "source": [
    "In the following function we use cosine similarity to find similar tags."
   ]
  },
  {
   "cell_type": "code",
   "execution_count": 135,
   "metadata": {},
   "outputs": [
    {
     "data": {
      "text/plain": [
       "['President',\n",
       " 'Election',\n",
       " 'terrorists',\n",
       " 'Hillary Clinton Campaign',\n",
       " 'Bernie Sanders Voters',\n",
       " 'money laundering',\n",
       " 'Stolen Election',\n",
       " \"I'm with Her\",\n",
       " 'terror funding',\n",
       " 'america']"
      ]
     },
     "execution_count": 135,
     "metadata": {},
     "output_type": "execute_result"
    }
   ],
   "source": [
    "def get_similar_tags(tag, inverted_index, inverted_index_clean, numRec):\n",
    "    tag = cleanup(tag)\n",
    "    array_of_docs = []\n",
    "    array_of_tags = []\n",
    "    first_loop = True\n",
    "    for key in inverted_index_clean:\n",
    "        row = \",\".join([ str(x) for x in inverted_index_clean[key]])\n",
    "        array_of_docs.append(row)\n",
    "        array_of_tags.append(key)\n",
    "    array_of_docs = np.array(array_of_docs)  \n",
    "    if tag not in array_of_tags: return []\n",
    "    t = array_of_tags.index(tag)\n",
    "    \n",
    "    tfidf = TfidfVectorizer().fit_transform(array_of_docs)\n",
    "    cosine_similarities = cosine_similarity(tfidf[t:t + 1], tfidf).flatten()\n",
    "    most_similar_tags = cosine_similarities.argsort()[:-(numRec + 1):-1]\n",
    "    #print(\"most_similar_tags\", most_similar_tags)\n",
    "    #for t in most_similar_tags:\n",
    "        #print(array_of_docs[t:t+1])\n",
    "    similar_tags = [array_of_tags[i] for i in most_similar_tags]\n",
    "    similar_Original_tags = []\n",
    "    for tag in similar_tags:\n",
    "        similar_Original_tags.append(recommendOriginal(inverted_index, inverted_index_clean, tag))\n",
    "    return similar_Original_tags[0:]\n",
    "\n",
    "get_similar_tags(\"president\", inverted_index, inverted_index_clean, 10)"
   ]
  },
  {
   "cell_type": "code",
   "execution_count": 140,
   "metadata": {},
   "outputs": [
    {
     "data": {
      "text/plain": [
       "['Hillary Clinton',\n",
       " 'Donald Trump',\n",
       " 'Infowars',\n",
       " 'Alex Jones',\n",
       " 'News & Politics',\n",
       " 'video',\n",
       " 'Donald Trump',\n",
       " 'Youtube',\n",
       " 'Bernie Sanders',\n",
       " 'Benghazi']"
      ]
     },
     "execution_count": 140,
     "metadata": {},
     "output_type": "execute_result"
    }
   ],
   "source": [
    "get_similar_tags(\"Hillary Clinton\", inverted_index, inverted_index_clean, 10)"
   ]
  },
  {
   "cell_type": "code",
   "execution_count": 131,
   "metadata": {},
   "outputs": [
    {
     "data": {
      "text/plain": [
       "['Election',\n",
       " 'Hillary Clinton',\n",
       " 'Hillary Clinton',\n",
       " 'Donald Trump',\n",
       " 'Infowars',\n",
       " 'News & Politics',\n",
       " 'Alex Jones',\n",
       " 'Youtube',\n",
       " 'video',\n",
       " 'Hack']"
      ]
     },
     "execution_count": 131,
     "metadata": {},
     "output_type": "execute_result"
    }
   ],
   "source": [
    "get_similar_tags(\"election\", inverted_index, inverted_index_clean, 10)"
   ]
  },
  {
   "cell_type": "code",
   "execution_count": 102,
   "metadata": {},
   "outputs": [
    {
     "data": {
      "text/plain": [
       "['President', 'presidential election', 'activist', 'voters lists']"
      ]
     },
     "execution_count": 102,
     "metadata": {},
     "output_type": "execute_result"
    }
   ],
   "source": [
    "get_similar_tags(\"election\", inverted_index, inverted_index_clean)"
   ]
  },
  {
   "cell_type": "code",
   "execution_count": 9,
   "metadata": {},
   "outputs": [
    {
     "data": {
      "text/plain": [
       "['video', 'News & Politics', '2016', 'PEG']"
      ]
     },
     "execution_count": 9,
     "metadata": {},
     "output_type": "execute_result"
    }
   ],
   "source": [
    "get_similar_tags(\"Youtube\", inverted_index)"
   ]
  },
  {
   "cell_type": "code",
   "execution_count": 133,
   "metadata": {},
   "outputs": [
    {
     "data": {
      "text/plain": [
       "['Youtube',\n",
       " 'video',\n",
       " 'News & Politics',\n",
       " '2016',\n",
       " 'PEG',\n",
       " 'Community Media',\n",
       " 'Public Access TV',\n",
       " 'Infowars',\n",
       " 'Alex Jones',\n",
       " 'Hillary Clinton']"
      ]
     },
     "execution_count": 133,
     "metadata": {},
     "output_type": "execute_result"
    }
   ],
   "source": [
    "get_similar_tags(\"youtube\", inverted_index, inverted_index_clean, 10)"
   ]
  },
  {
   "cell_type": "code",
   "execution_count": 141,
   "metadata": {},
   "outputs": [
    {
     "data": {
      "text/plain": [
       "['Donald Trump',\n",
       " 'Hillary Clinton',\n",
       " 'Donald Trump',\n",
       " 'Donald Trump',\n",
       " 'Hillary Clinton',\n",
       " 'News & Politics',\n",
       " 'Infowars',\n",
       " 'obama',\n",
       " 'Election',\n",
       " 'video']"
      ]
     },
     "execution_count": 141,
     "metadata": {},
     "output_type": "execute_result"
    }
   ],
   "source": [
    "get_similar_tags(\"trump\", inverted_index, inverted_index_clean, 10)"
   ]
  },
  {
   "cell_type": "code",
   "execution_count": null,
   "metadata": {
    "collapsed": true
   },
   "outputs": [],
   "source": [
    "# \n",
    "# Trump returns different results than trump\n"
   ]
  }
 ],
 "metadata": {
  "kernelspec": {
   "display_name": "Python 3",
   "language": "python",
   "name": "python3"
  },
  "language_info": {
   "codemirror_mode": {
    "name": "ipython",
    "version": 3
   },
   "file_extension": ".py",
   "mimetype": "text/x-python",
   "name": "python",
   "nbconvert_exporter": "python",
   "pygments_lexer": "ipython3",
   "version": "3.6.1"
  }
 },
 "nbformat": 4,
 "nbformat_minor": 2
}
